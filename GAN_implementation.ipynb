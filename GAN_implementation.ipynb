{
  "nbformat": 4,
  "nbformat_minor": 0,
  "metadata": {
    "colab": {
      "name": "GAN implementation.ipynb",
      "provenance": [],
      "collapsed_sections": [],
      "include_colab_link": true
    },
    "kernelspec": {
      "display_name": "Python 3",
      "name": "python3"
    },
    "language_info": {
      "name": "python"
    },
    "widgets": {
      "application/vnd.jupyter.widget-state+json": {
        "5e92a7e52c9249c294ca35db7b98d198": {
          "model_module": "@jupyter-widgets/controls",
          "model_name": "HBoxModel",
          "model_module_version": "1.5.0",
          "state": {
            "_view_name": "HBoxView",
            "_dom_classes": [],
            "_model_name": "HBoxModel",
            "_view_module": "@jupyter-widgets/controls",
            "_model_module_version": "1.5.0",
            "_view_count": null,
            "_view_module_version": "1.5.0",
            "box_style": "",
            "layout": "IPY_MODEL_370e58de04224c459244e66a8d606c13",
            "_model_module": "@jupyter-widgets/controls",
            "children": [
              "IPY_MODEL_88ea71d38ef148429b7d8bf04de43156",
              "IPY_MODEL_508c827e2ea5470483f4c0c783f28ec5",
              "IPY_MODEL_c7640af7c17a4bf6a9723276934800c1"
            ]
          }
        },
        "370e58de04224c459244e66a8d606c13": {
          "model_module": "@jupyter-widgets/base",
          "model_name": "LayoutModel",
          "model_module_version": "1.2.0",
          "state": {
            "_view_name": "LayoutView",
            "grid_template_rows": null,
            "right": null,
            "justify_content": null,
            "_view_module": "@jupyter-widgets/base",
            "overflow": null,
            "_model_module_version": "1.2.0",
            "_view_count": null,
            "flex_flow": null,
            "width": null,
            "min_width": null,
            "border": null,
            "align_items": null,
            "bottom": null,
            "_model_module": "@jupyter-widgets/base",
            "top": null,
            "grid_column": null,
            "overflow_y": null,
            "overflow_x": null,
            "grid_auto_flow": null,
            "grid_area": null,
            "grid_template_columns": null,
            "flex": null,
            "_model_name": "LayoutModel",
            "justify_items": null,
            "grid_row": null,
            "max_height": null,
            "align_content": null,
            "visibility": null,
            "align_self": null,
            "height": null,
            "min_height": null,
            "padding": null,
            "grid_auto_rows": null,
            "grid_gap": null,
            "max_width": null,
            "order": null,
            "_view_module_version": "1.2.0",
            "grid_template_areas": null,
            "object_position": null,
            "object_fit": null,
            "grid_auto_columns": null,
            "margin": null,
            "display": null,
            "left": null
          }
        },
        "88ea71d38ef148429b7d8bf04de43156": {
          "model_module": "@jupyter-widgets/controls",
          "model_name": "HTMLModel",
          "model_module_version": "1.5.0",
          "state": {
            "_view_name": "HTMLView",
            "style": "IPY_MODEL_03e7a1ad9b034dfb8bd7e427610ad8a2",
            "_dom_classes": [],
            "description": "",
            "_model_name": "HTMLModel",
            "placeholder": "​",
            "_view_module": "@jupyter-widgets/controls",
            "_model_module_version": "1.5.0",
            "value": "D_loss: 1.3164, G_loss: 1.5864: 100%",
            "_view_count": null,
            "_view_module_version": "1.5.0",
            "description_tooltip": null,
            "_model_module": "@jupyter-widgets/controls",
            "layout": "IPY_MODEL_409c5332d77b4d23b002a07d92c37977"
          }
        },
        "508c827e2ea5470483f4c0c783f28ec5": {
          "model_module": "@jupyter-widgets/controls",
          "model_name": "FloatProgressModel",
          "model_module_version": "1.5.0",
          "state": {
            "_view_name": "ProgressView",
            "style": "IPY_MODEL_dc89d4c8cc024a9d9438c3d4b00986bb",
            "_dom_classes": [],
            "description": "",
            "_model_name": "FloatProgressModel",
            "bar_style": "success",
            "max": 5000,
            "_view_module": "@jupyter-widgets/controls",
            "_model_module_version": "1.5.0",
            "value": 5000,
            "_view_count": null,
            "_view_module_version": "1.5.0",
            "orientation": "horizontal",
            "min": 0,
            "description_tooltip": null,
            "_model_module": "@jupyter-widgets/controls",
            "layout": "IPY_MODEL_d8d798f0315b4101ae810d46e359375b"
          }
        },
        "c7640af7c17a4bf6a9723276934800c1": {
          "model_module": "@jupyter-widgets/controls",
          "model_name": "HTMLModel",
          "model_module_version": "1.5.0",
          "state": {
            "_view_name": "HTMLView",
            "style": "IPY_MODEL_7b82f4ab728a4968a766c2e5c7dab54a",
            "_dom_classes": [],
            "description": "",
            "_model_name": "HTMLModel",
            "placeholder": "​",
            "_view_module": "@jupyter-widgets/controls",
            "_model_module_version": "1.5.0",
            "value": " 5000/5000 [20:23&lt;00:00,  3.99it/s]",
            "_view_count": null,
            "_view_module_version": "1.5.0",
            "description_tooltip": null,
            "_model_module": "@jupyter-widgets/controls",
            "layout": "IPY_MODEL_f70d71c9770747c49cb8746c9e29c2bb"
          }
        },
        "03e7a1ad9b034dfb8bd7e427610ad8a2": {
          "model_module": "@jupyter-widgets/controls",
          "model_name": "DescriptionStyleModel",
          "model_module_version": "1.5.0",
          "state": {
            "_view_name": "StyleView",
            "_model_name": "DescriptionStyleModel",
            "description_width": "",
            "_view_module": "@jupyter-widgets/base",
            "_model_module_version": "1.5.0",
            "_view_count": null,
            "_view_module_version": "1.2.0",
            "_model_module": "@jupyter-widgets/controls"
          }
        },
        "409c5332d77b4d23b002a07d92c37977": {
          "model_module": "@jupyter-widgets/base",
          "model_name": "LayoutModel",
          "model_module_version": "1.2.0",
          "state": {
            "_view_name": "LayoutView",
            "grid_template_rows": null,
            "right": null,
            "justify_content": null,
            "_view_module": "@jupyter-widgets/base",
            "overflow": null,
            "_model_module_version": "1.2.0",
            "_view_count": null,
            "flex_flow": null,
            "width": null,
            "min_width": null,
            "border": null,
            "align_items": null,
            "bottom": null,
            "_model_module": "@jupyter-widgets/base",
            "top": null,
            "grid_column": null,
            "overflow_y": null,
            "overflow_x": null,
            "grid_auto_flow": null,
            "grid_area": null,
            "grid_template_columns": null,
            "flex": null,
            "_model_name": "LayoutModel",
            "justify_items": null,
            "grid_row": null,
            "max_height": null,
            "align_content": null,
            "visibility": null,
            "align_self": null,
            "height": null,
            "min_height": null,
            "padding": null,
            "grid_auto_rows": null,
            "grid_gap": null,
            "max_width": null,
            "order": null,
            "_view_module_version": "1.2.0",
            "grid_template_areas": null,
            "object_position": null,
            "object_fit": null,
            "grid_auto_columns": null,
            "margin": null,
            "display": null,
            "left": null
          }
        },
        "dc89d4c8cc024a9d9438c3d4b00986bb": {
          "model_module": "@jupyter-widgets/controls",
          "model_name": "ProgressStyleModel",
          "model_module_version": "1.5.0",
          "state": {
            "_view_name": "StyleView",
            "_model_name": "ProgressStyleModel",
            "description_width": "",
            "_view_module": "@jupyter-widgets/base",
            "_model_module_version": "1.5.0",
            "_view_count": null,
            "_view_module_version": "1.2.0",
            "bar_color": null,
            "_model_module": "@jupyter-widgets/controls"
          }
        },
        "d8d798f0315b4101ae810d46e359375b": {
          "model_module": "@jupyter-widgets/base",
          "model_name": "LayoutModel",
          "model_module_version": "1.2.0",
          "state": {
            "_view_name": "LayoutView",
            "grid_template_rows": null,
            "right": null,
            "justify_content": null,
            "_view_module": "@jupyter-widgets/base",
            "overflow": null,
            "_model_module_version": "1.2.0",
            "_view_count": null,
            "flex_flow": null,
            "width": null,
            "min_width": null,
            "border": null,
            "align_items": null,
            "bottom": null,
            "_model_module": "@jupyter-widgets/base",
            "top": null,
            "grid_column": null,
            "overflow_y": null,
            "overflow_x": null,
            "grid_auto_flow": null,
            "grid_area": null,
            "grid_template_columns": null,
            "flex": null,
            "_model_name": "LayoutModel",
            "justify_items": null,
            "grid_row": null,
            "max_height": null,
            "align_content": null,
            "visibility": null,
            "align_self": null,
            "height": null,
            "min_height": null,
            "padding": null,
            "grid_auto_rows": null,
            "grid_gap": null,
            "max_width": null,
            "order": null,
            "_view_module_version": "1.2.0",
            "grid_template_areas": null,
            "object_position": null,
            "object_fit": null,
            "grid_auto_columns": null,
            "margin": null,
            "display": null,
            "left": null
          }
        },
        "7b82f4ab728a4968a766c2e5c7dab54a": {
          "model_module": "@jupyter-widgets/controls",
          "model_name": "DescriptionStyleModel",
          "model_module_version": "1.5.0",
          "state": {
            "_view_name": "StyleView",
            "_model_name": "DescriptionStyleModel",
            "description_width": "",
            "_view_module": "@jupyter-widgets/base",
            "_model_module_version": "1.5.0",
            "_view_count": null,
            "_view_module_version": "1.2.0",
            "_model_module": "@jupyter-widgets/controls"
          }
        },
        "f70d71c9770747c49cb8746c9e29c2bb": {
          "model_module": "@jupyter-widgets/base",
          "model_name": "LayoutModel",
          "model_module_version": "1.2.0",
          "state": {
            "_view_name": "LayoutView",
            "grid_template_rows": null,
            "right": null,
            "justify_content": null,
            "_view_module": "@jupyter-widgets/base",
            "overflow": null,
            "_model_module_version": "1.2.0",
            "_view_count": null,
            "flex_flow": null,
            "width": null,
            "min_width": null,
            "border": null,
            "align_items": null,
            "bottom": null,
            "_model_module": "@jupyter-widgets/base",
            "top": null,
            "grid_column": null,
            "overflow_y": null,
            "overflow_x": null,
            "grid_auto_flow": null,
            "grid_area": null,
            "grid_template_columns": null,
            "flex": null,
            "_model_name": "LayoutModel",
            "justify_items": null,
            "grid_row": null,
            "max_height": null,
            "align_content": null,
            "visibility": null,
            "align_self": null,
            "height": null,
            "min_height": null,
            "padding": null,
            "grid_auto_rows": null,
            "grid_gap": null,
            "max_width": null,
            "order": null,
            "_view_module_version": "1.2.0",
            "grid_template_areas": null,
            "object_position": null,
            "object_fit": null,
            "grid_auto_columns": null,
            "margin": null,
            "display": null,
            "left": null
          }
        }
      }
    }
  },
  "cells": [
    {
      "cell_type": "markdown",
      "metadata": {
        "id": "view-in-github",
        "colab_type": "text"
      },
      "source": [
        "<a href=\"https://colab.research.google.com/github/ReboreExplore/GAN-Papers-Implementation/blob/main/GAN_implementation.ipynb\" target=\"_parent\"><img src=\"https://colab.research.google.com/assets/colab-badge.svg\" alt=\"Open In Colab\"/></a>"
      ]
    },
    {
      "cell_type": "markdown",
      "metadata": {
        "id": "3laj83uKAkXY"
      },
      "source": [
        "In this notebook I have implemented the paper \"**Generative Adversarial Networks**\" by Goodfellow et. al. I have used the MNIST dataset which is a handwritten digits dataset with 10 classes.\n",
        "\n",
        "Framework used : *Pytorch*"
      ]
    },
    {
      "cell_type": "markdown",
      "metadata": {
        "id": "AMxxYUApE19v"
      },
      "source": [
        "## Imports"
      ]
    },
    {
      "cell_type": "code",
      "metadata": {
        "id": "MTC1FZh_BUo2"
      },
      "source": [
        "import torch\n",
        "import torchvision\n",
        "import torch.nn as nn\n",
        "from torch.nn import BatchNorm2d, Dropout\n",
        "import numpy as np\n",
        "import matplotlib.pyplot as plt\n",
        "from torchvision import datasets\n",
        "import torchvision.transforms as transforms\n",
        "from torch.utils.data import DataLoader\n",
        "from torch import optim\n",
        "from tqdm.auto import tqdm"
      ],
      "execution_count": null,
      "outputs": []
    },
    {
      "cell_type": "markdown",
      "metadata": {
        "id": "LPunC7woExbp"
      },
      "source": [
        "## Dataset preprocessing"
      ]
    },
    {
      "cell_type": "code",
      "metadata": {
        "id": "gowr1kdys9xh"
      },
      "source": [
        "dim = 28 # Data image dimension (28*28*1)\n",
        "batch_size = 128\n",
        "latent_dims = 64 # Generator noise input dimensions"
      ],
      "execution_count": null,
      "outputs": []
    },
    {
      "cell_type": "markdown",
      "metadata": {
        "id": "vdBrjVMkB0JY"
      },
      "source": [
        "### Download dataset and apply transforms"
      ]
    },
    {
      "cell_type": "code",
      "metadata": {
        "id": "EfBhqFC5Ev4M"
      },
      "source": [
        "transform = transforms.Compose(\n",
        "    [transforms.ToTensor(),\n",
        "     transforms.Normalize(mean=(0.5), std=(0.5))\n",
        "    ]) # (0.5,) is used as MNIST dataset consists of only grayscale images\n",
        "\n",
        "train_data = datasets.MNIST(\n",
        "    root = 'data',\n",
        "    train = True,                         \n",
        "    transform = transform, \n",
        "    download = True,            \n",
        ")"
      ],
      "execution_count": null,
      "outputs": []
    },
    {
      "cell_type": "markdown",
      "metadata": {
        "id": "O3BEENB-B7vY"
      },
      "source": [
        "### Visualize the dataset"
      ]
    },
    {
      "cell_type": "code",
      "metadata": {
        "id": "jBUukwfZY19l"
      },
      "source": [
        "# Check the dimensions and visualize the images\n",
        "print(f'The shape and type of the images in the dataset is {train_data.data[0].shape}')\n",
        "print(f'The total number of images in the dataset: {len(train_data)}')\n",
        "print(f'Visualizing the first image.....\\n')\n",
        "plt.imshow(train_data.data[0], cmap='gray')\n",
        "plt.title('%i' % train_data.targets[0])\n",
        "plt.show()"
      ],
      "execution_count": null,
      "outputs": []
    },
    {
      "cell_type": "markdown",
      "metadata": {
        "id": "loWB9KKSCHla"
      },
      "source": [
        "### Create the Dataloader"
      ]
    },
    {
      "cell_type": "code",
      "metadata": {
        "id": "y-DTdJGYp5g7"
      },
      "source": [
        "train_loader = torch.utils.data.DataLoader(train_data, batch_size=batch_size,\n",
        "                                          shuffle=True)"
      ],
      "execution_count": null,
      "outputs": []
    },
    {
      "cell_type": "markdown",
      "metadata": {
        "id": "RRmEqlqMCNTd"
      },
      "source": [
        "## Models"
      ]
    },
    {
      "cell_type": "markdown",
      "metadata": {
        "id": "4kh6UlB7B1j9"
      },
      "source": [
        "### Discriminator Model"
      ]
    },
    {
      "cell_type": "code",
      "metadata": {
        "id": "BFCSw9omBRvI"
      },
      "source": [
        "# Create the discriminator class\n",
        "class Discriminator(nn.Module):\n",
        "  def __init__(self):\n",
        "    super(Discriminator, self).__init__()\n",
        "    self.layers = nn.Sequential(\n",
        "        nn.Linear(dim*dim, 1024),\n",
        "            nn.ReLU(),\n",
        "            nn.Linear(1024, 512),\n",
        "            nn.ReLU(),\n",
        "            nn.Linear(512, 256),\n",
        "            nn.ReLU(),\n",
        "            nn.Linear(256, 1),\n",
        "            nn.Sigmoid(),\n",
        "    )\n",
        "\n",
        "  def forward(self, x):\n",
        "    x = x.view(x.size(0), -1)\n",
        "    x = self.layers(x)\n",
        "    return x"
      ],
      "execution_count": null,
      "outputs": []
    },
    {
      "cell_type": "code",
      "metadata": {
        "colab": {
          "base_uri": "https://localhost:8080/"
        },
        "id": "RMj1drxfTvFr",
        "outputId": "e39aca3c-59b6-4b51-ecd8-d11d693296e9"
      },
      "source": [
        "dis_model = Discriminator()\n",
        "dis_model"
      ],
      "execution_count": null,
      "outputs": [
        {
          "output_type": "execute_result",
          "data": {
            "text/plain": [
              "Discriminator(\n",
              "  (layers): Sequential(\n",
              "    (0): Linear(in_features=784, out_features=1024, bias=True)\n",
              "    (1): ReLU()\n",
              "    (2): Linear(in_features=1024, out_features=512, bias=True)\n",
              "    (3): ReLU()\n",
              "    (4): Linear(in_features=512, out_features=256, bias=True)\n",
              "    (5): ReLU()\n",
              "    (6): Linear(in_features=256, out_features=1, bias=True)\n",
              "    (7): Sigmoid()\n",
              "  )\n",
              ")"
            ]
          },
          "metadata": {},
          "execution_count": 7
        }
      ]
    },
    {
      "cell_type": "code",
      "metadata": {
        "colab": {
          "base_uri": "https://localhost:8080/"
        },
        "id": "NAbXi97GUqE3",
        "outputId": "79992d88-b0d5-4365-fe0c-80f79a6c9f43"
      },
      "source": [
        "# discriminator unit test\n",
        "test_image = torch.randn(1, 1, 28, 28)\n",
        "dis_model(test_image)"
      ],
      "execution_count": null,
      "outputs": [
        {
          "output_type": "execute_result",
          "data": {
            "text/plain": [
              "tensor([[0.5095]], grad_fn=<SigmoidBackward>)"
            ]
          },
          "metadata": {},
          "execution_count": 8
        }
      ]
    },
    {
      "cell_type": "markdown",
      "metadata": {
        "id": "myukPxCD5GGR"
      },
      "source": [
        "### Generator Model"
      ]
    },
    {
      "cell_type": "code",
      "metadata": {
        "id": "88OvHXTZRbSK"
      },
      "source": [
        "# Create the generator class\n",
        "class Generator(nn.Module):\n",
        "  def __init__(self, latent_dims):\n",
        "    super(Generator, self).__init__()\n",
        "    self.layers = nn.Sequential(\n",
        "        nn.Linear(latent_dims,128),\n",
        "        nn.BatchNorm1d(num_features = 128),\n",
        "        nn.ReLU(),\n",
        "        nn.Linear(128,256),\n",
        "        nn.BatchNorm1d(256),\n",
        "        nn.ReLU(),\n",
        "        nn.Linear(256,512),\n",
        "        nn.Dropout(0.3),\n",
        "        nn.ReLU(),\n",
        "        nn.Linear(512,dim*dim),\n",
        "        nn.Tanh(),\n",
        "    )\n",
        "\n",
        "    \n",
        "  def forward(self, x):\n",
        "    x = self.layers(x)\n",
        "    x = x.view(x.size(0), 1, dim, dim)\n",
        "    return x"
      ],
      "execution_count": null,
      "outputs": []
    },
    {
      "cell_type": "code",
      "metadata": {
        "id": "WEaMk63LUJZ1"
      },
      "source": [
        "gen_model = Generator(latent_dims)"
      ],
      "execution_count": null,
      "outputs": []
    },
    {
      "cell_type": "code",
      "metadata": {
        "colab": {
          "base_uri": "https://localhost:8080/"
        },
        "id": "4KKRsLTVVC9t",
        "outputId": "af1cbe83-893d-4dad-fc7c-7c697015b9ca"
      },
      "source": [
        "# generator test\n",
        "test_latent = torch.randn(batch_size,64)\n",
        "out = gen_model(test_latent)\n",
        "out.shape"
      ],
      "execution_count": null,
      "outputs": [
        {
          "output_type": "execute_result",
          "data": {
            "text/plain": [
              "torch.Size([128, 1, 28, 28])"
            ]
          },
          "metadata": {},
          "execution_count": 11
        }
      ]
    },
    {
      "cell_type": "code",
      "metadata": {
        "colab": {
          "base_uri": "https://localhost:8080/"
        },
        "id": "AG5yPaMmOizE",
        "outputId": "7b974656-de52-41d6-e62b-45e5f03d379d"
      },
      "source": [
        "gen_model"
      ],
      "execution_count": null,
      "outputs": [
        {
          "output_type": "execute_result",
          "data": {
            "text/plain": [
              "Generator(\n",
              "  (layers): Sequential(\n",
              "    (0): Linear(in_features=64, out_features=128, bias=True)\n",
              "    (1): BatchNorm1d(128, eps=1e-05, momentum=0.1, affine=True, track_running_stats=True)\n",
              "    (2): ReLU()\n",
              "    (3): Linear(in_features=128, out_features=256, bias=True)\n",
              "    (4): BatchNorm1d(256, eps=1e-05, momentum=0.1, affine=True, track_running_stats=True)\n",
              "    (5): ReLU()\n",
              "    (6): Linear(in_features=256, out_features=512, bias=True)\n",
              "    (7): Dropout(p=0.3, inplace=False)\n",
              "    (8): ReLU()\n",
              "    (9): Linear(in_features=512, out_features=784, bias=True)\n",
              "    (10): Tanh()\n",
              "  )\n",
              ")"
            ]
          },
          "metadata": {},
          "execution_count": 12
        }
      ]
    },
    {
      "cell_type": "markdown",
      "metadata": {
        "id": "XmY7IPJqCbko"
      },
      "source": [
        "## Training "
      ]
    },
    {
      "cell_type": "markdown",
      "metadata": {
        "id": "wLU1Oc31C6uv"
      },
      "source": [
        "### Initializations"
      ]
    },
    {
      "cell_type": "code",
      "metadata": {
        "id": "av-jlYPVyC1N"
      },
      "source": [
        "disc_m = Discriminator()\n",
        "gen_m = Generator(latent_dims)"
      ],
      "execution_count": null,
      "outputs": []
    },
    {
      "cell_type": "code",
      "metadata": {
        "id": "JeVEgpePBVsj"
      },
      "source": [
        "train_steps = 5000\n",
        "disc_steps = 1 \n",
        "gen_steps = 3"
      ],
      "execution_count": null,
      "outputs": []
    },
    {
      "cell_type": "markdown",
      "metadata": {
        "id": "1uwQ_Io5C9mT"
      },
      "source": [
        "### Helper Functions"
      ]
    },
    {
      "cell_type": "code",
      "metadata": {
        "id": "VyBfodqEWATK"
      },
      "source": [
        "# helper function to get the noise signals\n",
        "def get_noise_samples(batch_size, dims):\n",
        "    return torch.randn([batch_size, dims])"
      ],
      "execution_count": null,
      "outputs": []
    },
    {
      "cell_type": "code",
      "metadata": {
        "id": "oAI4SpP2_dII"
      },
      "source": [
        "# Applying label smoothing\n",
        "def get_real_labels(batch_size):\n",
        "  real_labels = torch.randint(8,10,(batch_size,1))\n",
        "  return torch.mul(real_labels,0.1)\n",
        "\n",
        "def get_fake_labels(batch_size):\n",
        "  fake_labels = torch.randint(0,2,(batch_size,1))\n",
        "  return torch.mul(fake_labels,0.1)"
      ],
      "execution_count": null,
      "outputs": []
    },
    {
      "cell_type": "markdown",
      "metadata": {
        "id": "XSiZ4WBoDGE0"
      },
      "source": [
        "### Train Loop"
      ]
    },
    {
      "cell_type": "code",
      "metadata": {
        "id": "8AnDnqqXsSOe"
      },
      "source": [
        "def train_loop(disc, gen, epochs, disc_epochs, loader, batch_size, latent_dims):\n",
        "    \n",
        "    disc_optimizer = optim.Adam(disc.parameters(), lr = 0.0005)\n",
        "    gen_optimizer = optim.Adam(gen.parameters(), lr = 0.0005) \n",
        "    criterion = nn.BCELoss()\n",
        "    \n",
        "    pbar = tqdm(range(train_steps))\n",
        "    total_disc_loss = []\n",
        "    total_gen_loss = []\n",
        "\n",
        "    for i in pbar:\n",
        "      disc_loss_per_k = []\n",
        "      gen_loss_per_k = []\n",
        "      \n",
        "      # discriminator training\n",
        "      for j in range(disc_steps):\n",
        "        real_data, _ = next(iter(loader))\n",
        "        noise_vector = get_noise_samples(batch_size, latent_dims)\n",
        "        \n",
        "        real_label_pred = disc(real_data)\n",
        "        fake_data = gen(noise_vector)\n",
        "        fake_label_pred = disc(fake_data.detach())\n",
        "        \n",
        "        real_label = get_real_labels(batch_size)\n",
        "        fake_label = get_fake_labels(batch_size)\n",
        "        # disc_loss = - torch.mean((torch.log(real_image)) +(torch.log(1 - fake_image)))\n",
        "        \n",
        "        real_loss = criterion(real_label_pred,real_label)\n",
        "        fake_loss = criterion(fake_label_pred,fake_label)\n",
        "\n",
        "        disc_loss = real_loss + fake_loss\n",
        "        \n",
        "        disc_optimizer.zero_grad()\n",
        "        disc_loss.backward()\n",
        "        disc_optimizer.step()\n",
        "\n",
        "        disc_loss_per_k.append(disc_loss.item())\n",
        "      \n",
        "     # generator training\n",
        "      for k in range(gen_steps):\n",
        "        noise_vector = get_noise_samples(batch_size, latent_dims)\n",
        "        gen_image = gen(noise_vector)\n",
        "        fake_but_real_pred = disc(gen_image)\n",
        "\n",
        "        fake_but_real_label = get_real_labels(batch_size)\n",
        "\n",
        "        # gen_loss = - torch.mean(torch.log(fake_but_real_pred))\n",
        "        gen_loss = criterion(fake_but_real_pred, fake_but_real_label)\n",
        "        \n",
        "        gen_optimizer.zero_grad()\n",
        "        gen_loss.backward()\n",
        "        gen_optimizer.step()\n",
        "\n",
        "        gen_loss_per_k.append(gen_loss.item())\n",
        "      \n",
        "      total_disc_loss.append(np.mean(disc_loss_per_k))\n",
        "      total_gen_loss.append(np.mean(gen_loss_per_k))\n",
        "      # print(len(total_disc_loss))\n",
        "      # print(len(total_gen_loss))\n",
        "\n",
        "      pbar.set_description(f\"D_loss: {np.mean(total_disc_loss):.4f}, G_loss: {np.mean(total_gen_loss):.4f}\")\n",
        "    \n",
        "    return total_disc_loss,total_gen_loss"
      ],
      "execution_count": null,
      "outputs": []
    },
    {
      "cell_type": "code",
      "metadata": {
        "colab": {
          "base_uri": "https://localhost:8080/",
          "height": 49,
          "referenced_widgets": [
            "5e92a7e52c9249c294ca35db7b98d198",
            "370e58de04224c459244e66a8d606c13",
            "88ea71d38ef148429b7d8bf04de43156",
            "508c827e2ea5470483f4c0c783f28ec5",
            "c7640af7c17a4bf6a9723276934800c1",
            "03e7a1ad9b034dfb8bd7e427610ad8a2",
            "409c5332d77b4d23b002a07d92c37977",
            "dc89d4c8cc024a9d9438c3d4b00986bb",
            "d8d798f0315b4101ae810d46e359375b",
            "7b82f4ab728a4968a766c2e5c7dab54a",
            "f70d71c9770747c49cb8746c9e29c2bb"
          ]
        },
        "id": "gU3CSIZHdol-",
        "outputId": "5ea403eb-a612-4d7f-d6cf-67b043b8c55a"
      },
      "source": [
        "disc_loss, gen_loss = train_loop(disc_m, gen_m, train_steps, disc_steps, train_loader, batch_size, latent_dims)"
      ],
      "execution_count": null,
      "outputs": [
        {
          "output_type": "display_data",
          "data": {
            "application/vnd.jupyter.widget-view+json": {
              "model_id": "5e92a7e52c9249c294ca35db7b98d198",
              "version_minor": 0,
              "version_major": 2
            },
            "text/plain": [
              "  0%|          | 0/5000 [00:00<?, ?it/s]"
            ]
          },
          "metadata": {}
        }
      ]
    },
    {
      "cell_type": "markdown",
      "metadata": {
        "id": "J5cT1SK8DjHf"
      },
      "source": [
        "### Visualize the output"
      ]
    },
    {
      "cell_type": "code",
      "metadata": {
        "colab": {
          "base_uri": "https://localhost:8080/",
          "height": 305
        },
        "id": "7USpK9-BeqUW",
        "outputId": "026ec612-514c-4cfa-ff69-28899619289b"
      },
      "source": [
        "# check output\n",
        "test_noise_vectors = get_noise_samples(25, 64)\n",
        "gen_images = gen_m(test_noise_vectors)\n",
        "print(gen_images.shape)\n",
        "grid = torchvision.utils.make_grid(gen_images, nrow=5, normalize=True)\n",
        "\n",
        "np_grid = grid.numpy()\n",
        "np_grid = np.transpose(np_grid, (1, 2, 0))\n",
        "plt.imshow(np_grid)"
      ],
      "execution_count": null,
      "outputs": [
        {
          "output_type": "stream",
          "text": [
            "torch.Size([25, 1, 28, 28])\n"
          ],
          "name": "stdout"
        },
        {
          "output_type": "execute_result",
          "data": {
            "text/plain": [
              "<matplotlib.image.AxesImage at 0x7f3acb09df50>"
            ]
          },
          "metadata": {},
          "execution_count": 20
        },
        {
          "output_type": "display_data",
          "data": {
            "image/png": "[encoded data removed]",
            "text/plain": [
              "<Figure size 432x288 with 1 Axes>"
            ]
          },
          "metadata": {
            "needs_background": "light"
          }
        }
      ]
    },
    {
      "cell_type": "code",
      "metadata": {
        "id": "IFyT2x0fljRo"
      },
      "source": [
        "sample_size = 5\n",
        "disc_loss = disc_loss[0::sample_size]\n",
        "gen_loss = gen_loss[0::sample_size]"
      ],
      "execution_count": null,
      "outputs": []
    },
    {
      "cell_type": "code",
      "metadata": {
        "id": "2Cnl3OQc1w-8"
      },
      "source": [
        "# # Check\n",
        "# print(len(gen_loss))\n",
        "# print(type(gen_loss))\n",
        "# epochs = [i for i in np.arange(0,train_steps,sample_size)]\n",
        "# len(epochs)"
      ],
      "execution_count": null,
      "outputs": []
    },
    {
      "cell_type": "markdown",
      "metadata": {
        "id": "8l230-JaDwXF"
      },
      "source": [
        "### Plot Discriminator and Generator Loss"
      ]
    },
    {
      "cell_type": "code",
      "metadata": {
        "colab": {
          "base_uri": "https://localhost:8080/",
          "height": 279
        },
        "id": "keZTQ8I9bnzb",
        "outputId": "fd403511-5f55-4774-a89b-a29452fc68c2"
      },
      "source": [
        "# plotting function\n",
        "epochs = [i for i in np.arange(0,train_steps,sample_size)]\n",
        "plt.plot(epochs, disc_loss, label = \"Discriminator Loss\")\n",
        "plt.plot(epochs, gen_loss, label = \"Generator Loss\")\n",
        "plt.xlabel('steps')\n",
        "plt.ylabel('loss')\n",
        "plt.legend()\n",
        "plt.show()"
      ],
      "execution_count": null,
      "outputs": [
        {
          "output_type": "display_data",
          "data": {
            "image/png": "[encoded data removed]",
            "text/plain": [
              "<Figure size 432x288 with 1 Axes>"
            ]
          },
          "metadata": {
            "needs_background": "light"
          }
        }
      ]
    },
    {
      "cell_type": "code",
      "metadata": {
        "id": "0tjpoNP1zjfB"
      },
      "source": [
        ""
      ],
      "execution_count": null,
      "outputs": []
    }
  ]
}