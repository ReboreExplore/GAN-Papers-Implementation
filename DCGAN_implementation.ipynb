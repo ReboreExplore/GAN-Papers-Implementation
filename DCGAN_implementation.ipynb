{
  "nbformat": 4,
  "nbformat_minor": 0,
  "metadata": {
    "colab": {
      "name": "DCGAN implementation.ipynb",
      "provenance": [],
      "collapsed_sections": [],
      "authorship_tag": "ABX9TyNc0CtSbtsaqcCCzVvSby1/",
      "include_colab_link": true
    },
    "kernelspec": {
      "name": "python3",
      "display_name": "Python 3"
    },
    "language_info": {
      "name": "python"
    },
    "widgets": {
      "application/vnd.jupyter.widget-state+json": {
        "af00b10c5c51424787667d2b37e9852f": {
          "model_module": "@jupyter-widgets/controls",
          "model_name": "HBoxModel",
          "model_module_version": "1.5.0",
          "state": {
            "_view_name": "HBoxView",
            "_dom_classes": [],
            "_model_name": "HBoxModel",
            "_view_module": "@jupyter-widgets/controls",
            "_model_module_version": "1.5.0",
            "_view_count": null,
            "_view_module_version": "1.5.0",
            "box_style": "",
            "layout": "IPY_MODEL_b307b4feb5c24715bcd083f29606562d",
            "_model_module": "@jupyter-widgets/controls",
            "children": [
              "IPY_MODEL_0d97605cb9284e44bfb598f1c2f97940",
              "IPY_MODEL_b1066b60724f4f4581a3b5ed0899fcf7",
              "IPY_MODEL_51e2a44735ad4de4b19933842ea4c61d"
            ]
          }
        },
        "b307b4feb5c24715bcd083f29606562d": {
          "model_module": "@jupyter-widgets/base",
          "model_name": "LayoutModel",
          "model_module_version": "1.2.0",
          "state": {
            "_view_name": "LayoutView",
            "grid_template_rows": null,
            "right": null,
            "justify_content": null,
            "_view_module": "@jupyter-widgets/base",
            "overflow": null,
            "_model_module_version": "1.2.0",
            "_view_count": null,
            "flex_flow": null,
            "width": null,
            "min_width": null,
            "border": null,
            "align_items": null,
            "bottom": null,
            "_model_module": "@jupyter-widgets/base",
            "top": null,
            "grid_column": null,
            "overflow_y": null,
            "overflow_x": null,
            "grid_auto_flow": null,
            "grid_area": null,
            "grid_template_columns": null,
            "flex": null,
            "_model_name": "LayoutModel",
            "justify_items": null,
            "grid_row": null,
            "max_height": null,
            "align_content": null,
            "visibility": null,
            "align_self": null,
            "height": null,
            "min_height": null,
            "padding": null,
            "grid_auto_rows": null,
            "grid_gap": null,
            "max_width": null,
            "order": null,
            "_view_module_version": "1.2.0",
            "grid_template_areas": null,
            "object_position": null,
            "object_fit": null,
            "grid_auto_columns": null,
            "margin": null,
            "display": null,
            "left": null
          }
        },
        "0d97605cb9284e44bfb598f1c2f97940": {
          "model_module": "@jupyter-widgets/controls",
          "model_name": "HTMLModel",
          "model_module_version": "1.5.0",
          "state": {
            "_view_name": "HTMLView",
            "style": "IPY_MODEL_65c8258d4d9346ed950dec5e973d2899",
            "_dom_classes": [],
            "description": "",
            "_model_name": "HTMLModel",
            "placeholder": "​",
            "_view_module": "@jupyter-widgets/controls",
            "_model_module_version": "1.5.0",
            "value": "D_loss: 80.7027, G_loss: 11.2624: 100%",
            "_view_count": null,
            "_view_module_version": "1.5.0",
            "description_tooltip": null,
            "_model_module": "@jupyter-widgets/controls",
            "layout": "IPY_MODEL_24a66a91804d4c92a89992360bdc10c6"
          }
        },
        "b1066b60724f4f4581a3b5ed0899fcf7": {
          "model_module": "@jupyter-widgets/controls",
          "model_name": "FloatProgressModel",
          "model_module_version": "1.5.0",
          "state": {
            "_view_name": "ProgressView",
            "style": "IPY_MODEL_79f12004fd8c46a3bf26fe0fd25ba6fd",
            "_dom_classes": [],
            "description": "",
            "_model_name": "FloatProgressModel",
            "bar_style": "success",
            "max": 1000,
            "_view_module": "@jupyter-widgets/controls",
            "_model_module_version": "1.5.0",
            "value": 1000,
            "_view_count": null,
            "_view_module_version": "1.5.0",
            "orientation": "horizontal",
            "min": 0,
            "description_tooltip": null,
            "_model_module": "@jupyter-widgets/controls",
            "layout": "IPY_MODEL_1fa691ca534c4590aad93837135c9f9b"
          }
        },
        "51e2a44735ad4de4b19933842ea4c61d": {
          "model_module": "@jupyter-widgets/controls",
          "model_name": "HTMLModel",
          "model_module_version": "1.5.0",
          "state": {
            "_view_name": "HTMLView",
            "style": "IPY_MODEL_5ed105ff9b164830b80c48b16d8c4f7e",
            "_dom_classes": [],
            "description": "",
            "_model_name": "HTMLModel",
            "placeholder": "​",
            "_view_module": "@jupyter-widgets/controls",
            "_model_module_version": "1.5.0",
            "value": " 1000/1000 [25:12&lt;00:00,  1.48s/it]",
            "_view_count": null,
            "_view_module_version": "1.5.0",
            "description_tooltip": null,
            "_model_module": "@jupyter-widgets/controls",
            "layout": "IPY_MODEL_deeaa68f8dd84a03ab90a878b01980b5"
          }
        },
        "65c8258d4d9346ed950dec5e973d2899": {
          "model_module": "@jupyter-widgets/controls",
          "model_name": "DescriptionStyleModel",
          "model_module_version": "1.5.0",
          "state": {
            "_view_name": "StyleView",
            "_model_name": "DescriptionStyleModel",
            "description_width": "",
            "_view_module": "@jupyter-widgets/base",
            "_model_module_version": "1.5.0",
            "_view_count": null,
            "_view_module_version": "1.2.0",
            "_model_module": "@jupyter-widgets/controls"
          }
        },
        "24a66a91804d4c92a89992360bdc10c6": {
          "model_module": "@jupyter-widgets/base",
          "model_name": "LayoutModel",
          "model_module_version": "1.2.0",
          "state": {
            "_view_name": "LayoutView",
            "grid_template_rows": null,
            "right": null,
            "justify_content": null,
            "_view_module": "@jupyter-widgets/base",
            "overflow": null,
            "_model_module_version": "1.2.0",
            "_view_count": null,
            "flex_flow": null,
            "width": null,
            "min_width": null,
            "border": null,
            "align_items": null,
            "bottom": null,
            "_model_module": "@jupyter-widgets/base",
            "top": null,
            "grid_column": null,
            "overflow_y": null,
            "overflow_x": null,
            "grid_auto_flow": null,
            "grid_area": null,
            "grid_template_columns": null,
            "flex": null,
            "_model_name": "LayoutModel",
            "justify_items": null,
            "grid_row": null,
            "max_height": null,
            "align_content": null,
            "visibility": null,
            "align_self": null,
            "height": null,
            "min_height": null,
            "padding": null,
            "grid_auto_rows": null,
            "grid_gap": null,
            "max_width": null,
            "order": null,
            "_view_module_version": "1.2.0",
            "grid_template_areas": null,
            "object_position": null,
            "object_fit": null,
            "grid_auto_columns": null,
            "margin": null,
            "display": null,
            "left": null
          }
        },
        "79f12004fd8c46a3bf26fe0fd25ba6fd": {
          "model_module": "@jupyter-widgets/controls",
          "model_name": "ProgressStyleModel",
          "model_module_version": "1.5.0",
          "state": {
            "_view_name": "StyleView",
            "_model_name": "ProgressStyleModel",
            "description_width": "",
            "_view_module": "@jupyter-widgets/base",
            "_model_module_version": "1.5.0",
            "_view_count": null,
            "_view_module_version": "1.2.0",
            "bar_color": null,
            "_model_module": "@jupyter-widgets/controls"
          }
        },
        "1fa691ca534c4590aad93837135c9f9b": {
          "model_module": "@jupyter-widgets/base",
          "model_name": "LayoutModel",
          "model_module_version": "1.2.0",
          "state": {
            "_view_name": "LayoutView",
            "grid_template_rows": null,
            "right": null,
            "justify_content": null,
            "_view_module": "@jupyter-widgets/base",
            "overflow": null,
            "_model_module_version": "1.2.0",
            "_view_count": null,
            "flex_flow": null,
            "width": null,
            "min_width": null,
            "border": null,
            "align_items": null,
            "bottom": null,
            "_model_module": "@jupyter-widgets/base",
            "top": null,
            "grid_column": null,
            "overflow_y": null,
            "overflow_x": null,
            "grid_auto_flow": null,
            "grid_area": null,
            "grid_template_columns": null,
            "flex": null,
            "_model_name": "LayoutModel",
            "justify_items": null,
            "grid_row": null,
            "max_height": null,
            "align_content": null,
            "visibility": null,
            "align_self": null,
            "height": null,
            "min_height": null,
            "padding": null,
            "grid_auto_rows": null,
            "grid_gap": null,
            "max_width": null,
            "order": null,
            "_view_module_version": "1.2.0",
            "grid_template_areas": null,
            "object_position": null,
            "object_fit": null,
            "grid_auto_columns": null,
            "margin": null,
            "display": null,
            "left": null
          }
        },
        "5ed105ff9b164830b80c48b16d8c4f7e": {
          "model_module": "@jupyter-widgets/controls",
          "model_name": "DescriptionStyleModel",
          "model_module_version": "1.5.0",
          "state": {
            "_view_name": "StyleView",
            "_model_name": "DescriptionStyleModel",
            "description_width": "",
            "_view_module": "@jupyter-widgets/base",
            "_model_module_version": "1.5.0",
            "_view_count": null,
            "_view_module_version": "1.2.0",
            "_model_module": "@jupyter-widgets/controls"
          }
        },
        "deeaa68f8dd84a03ab90a878b01980b5": {
          "model_module": "@jupyter-widgets/base",
          "model_name": "LayoutModel",
          "model_module_version": "1.2.0",
          "state": {
            "_view_name": "LayoutView",
            "grid_template_rows": null,
            "right": null,
            "justify_content": null,
            "_view_module": "@jupyter-widgets/base",
            "overflow": null,
            "_model_module_version": "1.2.0",
            "_view_count": null,
            "flex_flow": null,
            "width": null,
            "min_width": null,
            "border": null,
            "align_items": null,
            "bottom": null,
            "_model_module": "@jupyter-widgets/base",
            "top": null,
            "grid_column": null,
            "overflow_y": null,
            "overflow_x": null,
            "grid_auto_flow": null,
            "grid_area": null,
            "grid_template_columns": null,
            "flex": null,
            "_model_name": "LayoutModel",
            "justify_items": null,
            "grid_row": null,
            "max_height": null,
            "align_content": null,
            "visibility": null,
            "align_self": null,
            "height": null,
            "min_height": null,
            "padding": null,
            "grid_auto_rows": null,
            "grid_gap": null,
            "max_width": null,
            "order": null,
            "_view_module_version": "1.2.0",
            "grid_template_areas": null,
            "object_position": null,
            "object_fit": null,
            "grid_auto_columns": null,
            "margin": null,
            "display": null,
            "left": null
          }
        }
      }
    },
    "accelerator": "GPU"
  },
  "cells": [
    {
      "cell_type": "markdown",
      "metadata": {
        "id": "view-in-github",
        "colab_type": "text"
      },
      "source": [
        "<a href=\"https://colab.research.google.com/github/ReboreExplore/GAN-Papers-Implementation/blob/main/DCGAN_implementation.ipynb\" target=\"_parent\"><img src=\"https://colab.research.google.com/assets/colab-badge.svg\" alt=\"Open In Colab\"/></a>"
      ]
    },
    {
      "cell_type": "markdown",
      "metadata": {
        "id": "wV88SIG1BLj9"
      },
      "source": [
        "## Imports"
      ]
    },
    {
      "cell_type": "code",
      "metadata": {
        "id": "7X0Cox8OBOdM"
      },
      "source": [
        "import torch\n",
        "import torch.nn as nn\n",
        "import torchvision\n",
        "import torchvision.transforms as transforms\n",
        "from torchvision import datasets\n",
        "from torch.utils.data import DataLoader,Dataset\n",
        "from torch import optim\n",
        "from tqdm.auto import tqdm\n",
        "import numpy as np\n",
        "import matplotlib.pyplot as plt"
      ],
      "execution_count": 78,
      "outputs": []
    },
    {
      "cell_type": "markdown",
      "metadata": {
        "id": "9GrNAuD64eWp"
      },
      "source": [
        "## Set up the GPU"
      ]
    },
    {
      "cell_type": "code",
      "metadata": {
        "colab": {
          "base_uri": "https://localhost:8080/"
        },
        "id": "AYf6qucdpDZY",
        "outputId": "84bb0bc0-8584-468e-bef7-750195f37517"
      },
      "source": [
        "device = torch.device('cuda' if torch.cuda.is_available() else 'cpu')\n",
        "device"
      ],
      "execution_count": 79,
      "outputs": [
        {
          "output_type": "execute_result",
          "data": {
            "text/plain": [
              "device(type='cuda')"
            ]
          },
          "metadata": {},
          "execution_count": 79
        }
      ]
    },
    {
      "cell_type": "markdown",
      "metadata": {
        "id": "BvU_BDT64mBo"
      },
      "source": [
        "## Dataset download and preprocessing"
      ]
    },
    {
      "cell_type": "code",
      "metadata": {
        "id": "QmZ-klZBBnh5"
      },
      "source": [
        "batch_size = 64\n",
        "transforms = transforms.Compose([\n",
        "                                 transforms.ToTensor(),\n",
        "                                 transforms.Normalize((0.5,),(0.5,))\n",
        "])"
      ],
      "execution_count": 80,
      "outputs": []
    },
    {
      "cell_type": "markdown",
      "metadata": {
        "id": "hDtwnJN85IH6"
      },
      "source": [
        "### Download the dataset"
      ]
    },
    {
      "cell_type": "code",
      "metadata": {
        "id": "_MUWZQj5CziG"
      },
      "source": [
        "train_data = datasets.MNIST(root= './data',train=True, transform=transforms, download=True)"
      ],
      "execution_count": 81,
      "outputs": []
    },
    {
      "cell_type": "code",
      "metadata": {
        "colab": {
          "base_uri": "https://localhost:8080/"
        },
        "id": "0nzw48ngxOCg",
        "outputId": "772a6d53-5e25-4d37-9d29-9874837edad1"
      },
      "source": [
        "# check the shape of the images\n",
        "train_data.data[0].shape"
      ],
      "execution_count": 82,
      "outputs": [
        {
          "output_type": "execute_result",
          "data": {
            "text/plain": [
              "torch.Size([28, 28])"
            ]
          },
          "metadata": {},
          "execution_count": 82
        }
      ]
    },
    {
      "cell_type": "markdown",
      "metadata": {
        "id": "3vzjUG314ya7"
      },
      "source": [
        "### Dataloader setup"
      ]
    },
    {
      "cell_type": "code",
      "metadata": {
        "id": "ce31l_qyDcqU"
      },
      "source": [
        "trainloader = DataLoader(train_data ,batch_size = batch_size,shuffle=True)"
      ],
      "execution_count": 83,
      "outputs": []
    },
    {
      "cell_type": "markdown",
      "metadata": {
        "id": "htRerMLd5C4f"
      },
      "source": [
        "### Visualize the dataset "
      ]
    },
    {
      "cell_type": "code",
      "metadata": {
        "id": "s5F399z-F8mw"
      },
      "source": [
        "def show_batch(trainloader):\n",
        "  for i, (images,_) in enumerate(trainloader):\n",
        "    if i < 1:\n",
        "      fig, ax = plt.subplots(figsize=(8, 8))\n",
        "      grid = torchvision.utils.make_grid(images, nrow=16, normalize=True)\n",
        "      np_grid = grid.numpy()\n",
        "      np_grid = np.transpose(np_grid, (1, 2, 0))\n",
        "      plt.imshow(np_grid)"
      ],
      "execution_count": 84,
      "outputs": []
    },
    {
      "cell_type": "code",
      "metadata": {
        "colab": {
          "base_uri": "https://localhost:8080/",
          "height": 164
        },
        "id": "jXbu4IgVLmNK",
        "outputId": "9c49a647-1094-4c83-e519-92fdc9466660"
      },
      "source": [
        "# Visualize images\n",
        "show_batch(trainloader)"
      ],
      "execution_count": 85,
      "outputs": [
        {
          "output_type": "display_data",
          "data": {
            "image/png": "[encoded data removed]",
            "text/plain": [
              "<Figure size 576x576 with 1 Axes>"
            ]
          },
          "metadata": {
            "needs_background": "light"
          }
        }
      ]
    },
    {
      "cell_type": "markdown",
      "metadata": {
        "id": "aX7OLp6ERLZF"
      },
      "source": [
        "## Models"
      ]
    },
    {
      "cell_type": "markdown",
      "metadata": {
        "id": "trtjhj2R5R5A"
      },
      "source": [
        "### Initializations"
      ]
    },
    {
      "cell_type": "code",
      "metadata": {
        "id": "9do8XKl1zEh6"
      },
      "source": [
        "num_filters = [512, 256, 128]\n",
        "image_dim = (batch_size,1,28,28)\n",
        "latent_dims = 100"
      ],
      "execution_count": 86,
      "outputs": []
    },
    {
      "cell_type": "markdown",
      "metadata": {
        "id": "vBlAx9LZ5VVC"
      },
      "source": [
        "### Generator Model"
      ]
    },
    {
      "cell_type": "code",
      "metadata": {
        "id": "YSg_JReARIQR"
      },
      "source": [
        "class Generator(nn.Module):\n",
        "  def __init__(self,latent_dim,num_filters,output_dim):\n",
        "    super(Generator,self).__init__()\n",
        "    #Input Projection\n",
        "    self.input_layer = nn.Sequential(\n",
        "    nn.Linear(latent_dim,256*16*16),\n",
        "    nn.ReLU()\n",
        "    )\n",
        "    # Hidden Layers\n",
        "    self.hidden_layers = nn.Sequential()\n",
        "    for i in range(len(num_filters)):\n",
        "      if i == 0:\n",
        "          tconv = nn.ConvTranspose2d(256, num_filters[i], kernel_size=4, stride=1, padding=0)\n",
        "      else:\n",
        "          tconv = nn.ConvTranspose2d(num_filters[i-1], num_filters[i], kernel_size=4, stride=1, padding=0)\n",
        "\n",
        "      tconv_name = 'tconv' + str(i + 1)\n",
        "      self.hidden_layers.add_module(tconv_name, tconv)\n",
        "\n",
        "      # Weight and bias initialization\n",
        "      nn.init.normal_(tconv.weight, mean=0.0, std=0.02)\n",
        "      nn.init.constant_(tconv.bias, 0.0)\n",
        "\n",
        "      # Batch normalization\n",
        "      if i != 0:\n",
        "          batch_norm = nn.BatchNorm2d(num_filters[i])\n",
        "          bn_name = 'bn' + str(i + 1)\n",
        "          self.hidden_layers.add_module(bn_name, batch_norm)\n",
        "\n",
        "      # Activation\n",
        "      activation = nn.ReLU(0.2)\n",
        "      act_name = 'act' + str(i + 1)\n",
        "      self.hidden_layers.add_module(act_name, activation)\n",
        "\n",
        "    # Output Layer\n",
        "    self.output_layer = torch.nn.Sequential()\n",
        "    # Deconvolutional layer\n",
        "    out = nn.ConvTranspose2d(num_filters[i], output_dim, kernel_size=4, stride=1, padding=0)\n",
        "    self.output_layer.add_module('out', out)\n",
        "    \n",
        "    # Weight and Bias initialization\n",
        "    torch.nn.init.normal_(out.weight, mean=0.0, std=0.02)\n",
        "    torch.nn.init.constant_(out.bias, 0.0)\n",
        "    \n",
        "    # Activation\n",
        "    output_activation = nn.Tanh()\n",
        "    self.output_layer.add_module('act', output_activation)\n",
        "\n",
        "\n",
        "  def forward(self, x):\n",
        "    x = self.input_layer(x)\n",
        "    x = x.view(x.size(0),256,16,16)\n",
        "    x = self.hidden_layers(x)\n",
        "    out = self.output_layer(x)\n",
        "    return out"
      ],
      "execution_count": 87,
      "outputs": []
    },
    {
      "cell_type": "markdown",
      "metadata": {
        "id": "1xzwSP7O5chZ"
      },
      "source": [
        "### Test the generator model"
      ]
    },
    {
      "cell_type": "code",
      "metadata": {
        "colab": {
          "base_uri": "https://localhost:8080/"
        },
        "id": "M-5DJqXU70pD",
        "outputId": "9f2c21a8-ffdc-4281-9db2-44cfa2940de3"
      },
      "source": [
        "gen_model = Generator(latent_dim,num_filters,1)\n",
        "gen_model =gen_model.to(device)\n",
        "print(gen_model)"
      ],
      "execution_count": 101,
      "outputs": [
        {
          "output_type": "stream",
          "text": [
            "Generator(\n",
            "  (input_layer): Sequential(\n",
            "    (0): Linear(in_features=100, out_features=65536, bias=True)\n",
            "    (1): ReLU()\n",
            "  )\n",
            "  (hidden_layers): Sequential(\n",
            "    (tconv1): ConvTranspose2d(256, 512, kernel_size=(4, 4), stride=(1, 1))\n",
            "    (act1): ReLU(inplace=True)\n",
            "    (tconv2): ConvTranspose2d(512, 256, kernel_size=(4, 4), stride=(1, 1))\n",
            "    (bn2): BatchNorm2d(256, eps=1e-05, momentum=0.1, affine=True, track_running_stats=True)\n",
            "    (act2): ReLU(inplace=True)\n",
            "    (tconv3): ConvTranspose2d(256, 128, kernel_size=(4, 4), stride=(1, 1))\n",
            "    (bn3): BatchNorm2d(128, eps=1e-05, momentum=0.1, affine=True, track_running_stats=True)\n",
            "    (act3): ReLU(inplace=True)\n",
            "  )\n",
            "  (output_layer): Sequential(\n",
            "    (out): ConvTranspose2d(128, 1, kernel_size=(4, 4), stride=(1, 1))\n",
            "    (act): Tanh()\n",
            "  )\n",
            ")\n"
          ],
          "name": "stdout"
        }
      ]
    },
    {
      "cell_type": "markdown",
      "metadata": {
        "id": "IJV5nbUhUaDW"
      },
      "source": [
        "*For ConvTranspose2D layers*\n",
        "\n",
        "**H_out** = strides* (input_size-1)+ kernal_size -(2 * padding)\n",
        "\n",
        "For this model =  [100x1] -> [256x16x16] -> [512x19x19] -> [256x22x22] -> [128x25x25] -> [1x28x28]"
      ]
    },
    {
      "cell_type": "code",
      "metadata": {
        "colab": {
          "base_uri": "https://localhost:8080/"
        },
        "id": "MlR24VUANCSQ",
        "outputId": "cb2172cf-07d5-4048-a2f7-e7de2fa86b14"
      },
      "source": [
        "# unit test\n",
        "test_image = torch.randn(1,100)\n",
        "img =gen_model(test_image.to(device))\n",
        "img.shape"
      ],
      "execution_count": 102,
      "outputs": [
        {
          "output_type": "execute_result",
          "data": {
            "text/plain": [
              "torch.Size([1, 1, 28, 28])"
            ]
          },
          "metadata": {},
          "execution_count": 102
        }
      ]
    },
    {
      "cell_type": "markdown",
      "metadata": {
        "id": "mqQfrlmG5lO-"
      },
      "source": [
        "### Discriminator Model"
      ]
    },
    {
      "cell_type": "code",
      "metadata": {
        "id": "UvDYaybm81ZV"
      },
      "source": [
        "class Discriminator(nn.Module):\n",
        "  def __init__(self,input_dim,num_filters,output_dim):\n",
        "    super(Discriminator,self).__init__()\n",
        "    # Hidden Layers\n",
        "    self.hidden_layers = nn.Sequential()\n",
        "    for i in range(len(num_filters)):\n",
        "      if i == 0:\n",
        "          conv = nn.Conv2d(input_dim, num_filters[i], kernel_size=3, stride=1, padding='same')\n",
        "      else:\n",
        "          conv = nn.Conv2d(num_filters[i-1], num_filters[i], kernel_size=3, stride=1, padding='same')\n",
        "\n",
        "      conv_name = 'conv' + str(i + 1)\n",
        "      self.hidden_layers.add_module(conv_name, conv)\n",
        "\n",
        "      # Weight and bias initialization\n",
        "      nn.init.normal_(conv.weight, mean=0.0, std=0.02)\n",
        "      nn.init.constant_(conv.bias, 0.0)\n",
        "\n",
        "      # Batch normalization\n",
        "      if i != 0:\n",
        "          batch_norm = nn.BatchNorm2d(num_filters[i])\n",
        "          bn_name = 'bn' + str(i + 1)\n",
        "          self.hidden_layers.add_module(bn_name, batch_norm)\n",
        "\n",
        "      # Activation\n",
        "      activation = nn.LeakyReLU(0.2)\n",
        "      act_name = 'act' + str(i + 1)\n",
        "      self.hidden_layers.add_module(act_name, activation)\n",
        "\n",
        "    # Output Layer\n",
        "    self.lastconv_layer = torch.nn.Sequential()\n",
        "    # convolutional layer\n",
        "    outconv = nn.Conv2d(num_filters[-1], 128 , kernel_size=4, stride=2, padding=1)\n",
        "    self.lastconv_layer.add_module('convout', outconv)\n",
        "    \n",
        "     # Weight and Bias initialization\n",
        "    torch.nn.init.normal_(outconv.weight, mean=0.0, std=0.02)\n",
        "    torch.nn.init.constant_(outconv.bias, 0.0)\n",
        "    \n",
        "    self.output_layer = torch.nn.Sequential()\n",
        "    # Linear Layers\n",
        "    outlin = nn.Linear(128*14*14,1)\n",
        "    self.output_layer.add_module('outlin', outlin)\n",
        "   \n",
        "    # Activation\n",
        "    output_activation = nn.Sigmoid()\n",
        "    self.output_layer.add_module('act', output_activation)\n",
        "\n",
        "\n",
        "  def forward(self, x):\n",
        "    x = self.hidden_layers(x)\n",
        "    x = self.lastconv_layer(x)\n",
        "    x = x.view(x.size(0),-1)\n",
        "    x = self.output_layer(x)\n",
        "\n",
        "    return x"
      ],
      "execution_count": 90,
      "outputs": []
    },
    {
      "cell_type": "markdown",
      "metadata": {
        "id": "dHo9k2v15ydK"
      },
      "source": [
        "### Check the discriminator model"
      ]
    },
    {
      "cell_type": "code",
      "metadata": {
        "colab": {
          "base_uri": "https://localhost:8080/"
        },
        "id": "lGufy-EP_2a9",
        "outputId": "932d1951-6846-4b66-a7c9-78f63ccfb004"
      },
      "source": [
        "disc_model = Discriminator(1,num_filters[::-1],1)\n",
        "disc_model.to(device)\n",
        "disc_model"
      ],
      "execution_count": 103,
      "outputs": [
        {
          "output_type": "execute_result",
          "data": {
            "text/plain": [
              "Discriminator(\n",
              "  (hidden_layers): Sequential(\n",
              "    (conv1): Conv2d(1, 128, kernel_size=(3, 3), stride=(1, 1), padding=same)\n",
              "    (act1): LeakyReLU(negative_slope=0.2)\n",
              "    (conv2): Conv2d(128, 256, kernel_size=(3, 3), stride=(1, 1), padding=same)\n",
              "    (bn2): BatchNorm2d(256, eps=1e-05, momentum=0.1, affine=True, track_running_stats=True)\n",
              "    (act2): LeakyReLU(negative_slope=0.2)\n",
              "    (conv3): Conv2d(256, 512, kernel_size=(3, 3), stride=(1, 1), padding=same)\n",
              "    (bn3): BatchNorm2d(512, eps=1e-05, momentum=0.1, affine=True, track_running_stats=True)\n",
              "    (act3): LeakyReLU(negative_slope=0.2)\n",
              "  )\n",
              "  (lastconv_layer): Sequential(\n",
              "    (convout): Conv2d(512, 128, kernel_size=(4, 4), stride=(2, 2), padding=(1, 1))\n",
              "  )\n",
              "  (output_layer): Sequential(\n",
              "    (outlin): Linear(in_features=25088, out_features=1, bias=True)\n",
              "    (act): Sigmoid()\n",
              "  )\n",
              ")"
            ]
          },
          "metadata": {},
          "execution_count": 103
        }
      ]
    },
    {
      "cell_type": "markdown",
      "metadata": {
        "id": "_udFTnQQ8c2F"
      },
      "source": [
        "*For Conv2D layers*\n",
        "\n",
        "**n_out** = (input_size + (2*padding) - kernal_size)/stride + 1 \n",
        "\n",
        "For this model = [1x28x28] -> [512x28x28] -> [256x28x28] -> [128x28x28] -> [128x14x14] -> [1,1]"
      ]
    },
    {
      "cell_type": "code",
      "metadata": {
        "colab": {
          "base_uri": "https://localhost:8080/"
        },
        "id": "KuhTDeexAU-7",
        "outputId": "300d69e4-ef1f-4eb6-b4a9-54d687a398e4"
      },
      "source": [
        "# unit test\n",
        "disc_test = torch.randn(20,1,28,28) # test with a batch size of 20\n",
        "pred = disc_model(disc_test.to(device))\n",
        "pred.shape"
      ],
      "execution_count": 92,
      "outputs": [
        {
          "output_type": "execute_result",
          "data": {
            "text/plain": [
              "torch.Size([20, 1])"
            ]
          },
          "metadata": {},
          "execution_count": 92
        }
      ]
    },
    {
      "cell_type": "markdown",
      "metadata": {
        "id": "anwr79_YPIDl"
      },
      "source": [
        "## Training "
      ]
    },
    {
      "cell_type": "markdown",
      "metadata": {
        "id": "qlw-fMy455Bk"
      },
      "source": [
        "### Initialization"
      ]
    },
    {
      "cell_type": "code",
      "metadata": {
        "id": "ufk3rjPsPAWK"
      },
      "source": [
        "train_steps = 1000\n",
        "disc_steps = 1 \n",
        "gen_steps = 2"
      ],
      "execution_count": 105,
      "outputs": []
    },
    {
      "cell_type": "markdown",
      "metadata": {
        "id": "_iXQaLm45_fN"
      },
      "source": [
        "### Set up helper functions"
      ]
    },
    {
      "cell_type": "code",
      "metadata": {
        "id": "-cp5NmnJPMQ0"
      },
      "source": [
        "# helper function to get the noise signals\n",
        "def get_noise_samples(batch_size, dims):\n",
        "    return torch.randn([batch_size, dims])"
      ],
      "execution_count": 106,
      "outputs": []
    },
    {
      "cell_type": "code",
      "metadata": {
        "id": "RGwOkNlGPPiF"
      },
      "source": [
        "# Applying label smoothing\n",
        "def get_real_labels(batch_size):\n",
        "  real_labels = torch.randint(8,10,(batch_size,1))\n",
        "  return torch.mul(real_labels,0.1)\n",
        "\n",
        "def get_fake_labels(batch_size):\n",
        "  fake_labels = torch.randint(0,2,(batch_size,1))\n",
        "  return torch.mul(fake_labels,0.1)"
      ],
      "execution_count": 107,
      "outputs": []
    },
    {
      "cell_type": "code",
      "metadata": {
        "id": "SwootcV9yvPK"
      },
      "source": [
        "# Discriminator Train function\n",
        "def disc_train(loader,latent_dims,disc,gen,batch_size,criterion,disc_optimizer,device):\n",
        "  real_data, _ = next(iter(loader))\n",
        "  real_data = real_data.to(device)\n",
        "  noise_vector = get_noise_samples(batch_size, latent_dims)\n",
        "  noise_vector = noise_vector.to(device)\n",
        "  \n",
        "  real_label_pred = disc(real_data)\n",
        "  fake_data = gen(noise_vector)\n",
        "  fake_label_pred = disc(fake_data.detach())\n",
        "  \n",
        "  real_label = get_real_labels(batch_size).to(device)\n",
        "  fake_label = get_fake_labels(batch_size).to(device)\n",
        "  # disc_loss = - torch.mean((torch.log(real_image)) +(torch.log(1 - fake_image)))\n",
        "  \n",
        "  real_loss = criterion(real_label_pred,real_label)\n",
        "  fake_loss = criterion(fake_label_pred,fake_label)\n",
        "\n",
        "  disc_loss = real_loss + fake_loss\n",
        "  \n",
        "  disc_optimizer.zero_grad()\n",
        "  disc_loss.backward()\n",
        "  disc_optimizer.step()\n",
        "  \n",
        "  return disc_loss.item()"
      ],
      "execution_count": 108,
      "outputs": []
    },
    {
      "cell_type": "code",
      "metadata": {
        "id": "gjlEqtDn1kp6"
      },
      "source": [
        "# Generator Train Function\n",
        "def gen_train(latent_dims,disc,gen,batch_size,criterion,gen_optimizer,device):\n",
        "  noise_vector = get_noise_samples(batch_size, latent_dims)\n",
        "  noise_vector = noise_vector.to(device)\n",
        "  gen_image = gen(noise_vector)\n",
        "  fake_but_real_pred = disc(gen_image)\n",
        "\n",
        "  fake_but_real_label = get_real_labels(batch_size).to(device)\n",
        "\n",
        "  # gen_loss = - torch.mean(torch.log(fake_but_real_pred))\n",
        "  gen_loss = criterion(fake_but_real_pred, fake_but_real_label)\n",
        "  \n",
        "  gen_optimizer.zero_grad()\n",
        "  gen_loss.backward()\n",
        "  gen_optimizer.step()\n",
        "\n",
        "  return gen_loss.item()\n"
      ],
      "execution_count": 109,
      "outputs": []
    },
    {
      "cell_type": "markdown",
      "metadata": {
        "id": "bCtojQ4t7YJo"
      },
      "source": [
        "### Train loop"
      ]
    },
    {
      "cell_type": "code",
      "metadata": {
        "id": "Zwfi1NIhPSPz"
      },
      "source": [
        "def train_loop(disc, gen, epochs, disc_steps, gen_steps, loader, batch_size, latent_dims,device):\n",
        "    \n",
        "    disc_optimizer = optim.Adam(disc.parameters(),betas=(0.5, 0.999), lr = 0.0002)\n",
        "    gen_optimizer = optim.Adam(gen.parameters(),betas=(0.5, 0.999), lr = 0.0002) \n",
        "    criterion = nn.BCELoss()\n",
        "    \n",
        "    pbar = tqdm(range(train_steps))\n",
        "    total_disc_loss = []\n",
        "    total_gen_loss = []\n",
        "\n",
        "    for i in pbar:\n",
        "      \n",
        "      disc_loss_per_k = []\n",
        "      gen_loss_per_k = []\n",
        "      \n",
        "      # discriminator training\n",
        "      for j in range(disc_steps):\n",
        "        disc_loss = disc_train(loader,latent_dims,disc,gen,batch_size,criterion,disc_optimizer,device)\n",
        "        disc_loss_per_k.append(disc_loss)\n",
        "     \n",
        "     # generator training\n",
        "      for k in range(gen_steps):\n",
        "        gen_loss = gen_train(latent_dims,disc,gen,batch_size,criterion,gen_optimizer,device)\n",
        "        gen_loss_per_k.append(gen_loss)\n",
        "    \n",
        "      total_disc_loss.append(np.mean(disc_loss_per_k))\n",
        "      total_gen_loss.append(np.mean(gen_loss_per_k))\n",
        "      \n",
        "      pbar.set_description(f\"D_loss: {np.mean(total_disc_loss):.4f}, G_loss: {np.mean(total_gen_loss):.4f}\")\n",
        "    \n",
        "    return total_disc_loss,total_gen_loss"
      ],
      "execution_count": 111,
      "outputs": []
    },
    {
      "cell_type": "code",
      "metadata": {
        "colab": {
          "base_uri": "https://localhost:8080/",
          "height": 49,
          "referenced_widgets": [
            "af00b10c5c51424787667d2b37e9852f",
            "b307b4feb5c24715bcd083f29606562d",
            "0d97605cb9284e44bfb598f1c2f97940",
            "b1066b60724f4f4581a3b5ed0899fcf7",
            "51e2a44735ad4de4b19933842ea4c61d",
            "65c8258d4d9346ed950dec5e973d2899",
            "24a66a91804d4c92a89992360bdc10c6",
            "79f12004fd8c46a3bf26fe0fd25ba6fd",
            "1fa691ca534c4590aad93837135c9f9b",
            "5ed105ff9b164830b80c48b16d8c4f7e",
            "deeaa68f8dd84a03ab90a878b01980b5"
          ]
        },
        "id": "xYu6sHWEPY6F",
        "outputId": "2ef7d27d-f93e-4f9b-ba67-7503e66d79dc"
      },
      "source": [
        "disc_loss, gen_loss = train_loop(disc_model, gen_model, train_steps, disc_steps, gen_steps, trainloader, batch_size, latent_dim,device)"
      ],
      "execution_count": 116,
      "outputs": [
        {
          "output_type": "display_data",
          "data": {
            "application/vnd.jupyter.widget-view+json": {
              "model_id": "af00b10c5c51424787667d2b37e9852f",
              "version_minor": 0,
              "version_major": 2
            },
            "text/plain": [
              "  0%|          | 0/1000 [00:00<?, ?it/s]"
            ]
          },
          "metadata": {}
        }
      ]
    },
    {
      "cell_type": "markdown",
      "metadata": {
        "id": "KXWItzxW7dc6"
      },
      "source": [
        "### Check and visualize output"
      ]
    },
    {
      "cell_type": "code",
      "metadata": {
        "id": "ec7uo761PxDZ"
      },
      "source": [
        "# check output\n",
        "test_noise_vectors = get_noise_samples(25, 100)\n",
        "test_noise_vectors = test_noise_vectors.to(device)\n",
        "gen_images = gen_model(test_noise_vectors)\n",
        "print(gen_images.shape)\n",
        "grid = torchvision.utils.make_grid(gen_images, nrow=5, normalize=True)\n",
        "\n",
        "np_grid = grid.cpu().numpy()\n",
        "np_grid = np.transpose(np_grid, (1, 2, 0))\n",
        "plt.imshow(np_grid)"
      ],
      "execution_count": null,
      "outputs": []
    },
    {
      "cell_type": "code",
      "metadata": {
        "id": "EaaDDq3CQOXY"
      },
      "source": [
        "sample_size = 5\n",
        "disc_loss = disc_loss[0::sample_size]\n",
        "gen_loss = gen_loss[0::sample_size]"
      ],
      "execution_count": 114,
      "outputs": []
    },
    {
      "cell_type": "markdown",
      "metadata": {
        "id": "aNHsnzUW7lGH"
      },
      "source": [
        "### Plot the discriminator and generator loss"
      ]
    },
    {
      "cell_type": "code",
      "metadata": {
        "id": "_xN3gT1gQPUw",
        "colab": {
          "base_uri": "https://localhost:8080/",
          "height": 279
        },
        "outputId": "3eb75f36-53cb-4f1e-e170-8b8fa56ada69"
      },
      "source": [
        "# plotting function\n",
        "epochs = [i for i in np.arange(0,train_steps,sample_size)]\n",
        "plt.plot(epochs, disc_loss, label = \"Discriminator Loss\")\n",
        "plt.plot(epochs, gen_loss, label = \"Generator Loss\")\n",
        "plt.xlabel('steps')\n",
        "plt.ylabel('loss')\n",
        "plt.legend()\n",
        "plt.show()"
      ],
      "execution_count": 115,
      "outputs": [
        {
          "output_type": "display_data",
          "data": {
            "image/png": "[encoded data removed]",
            "text/plain": [
              "<Figure size 432x288 with 1 Axes>"
            ]
          },
          "metadata": {
            "needs_background": "light"
          }
        }
      ]
    },
    {
      "cell_type": "code",
      "metadata": {
        "id": "ZaDQcbjh4Ejt"
      },
      "source": [
        ""
      ],
      "execution_count": null,
      "outputs": []
    }
  ]
}